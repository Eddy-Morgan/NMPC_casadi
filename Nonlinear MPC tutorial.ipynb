{
 "cells": [
  {
   "cell_type": "markdown",
   "id": "55b1654f-1e0c-4aea-acf6-f6bbae895b71",
   "metadata": {},
   "source": [
    "<h1>computational graphs</h1>"
   ]
  },
  {
   "cell_type": "code",
   "execution_count": 259,
   "id": "1b11f5c0-5430-4df3-b9ce-4745db4b1c71",
   "metadata": {},
   "outputs": [],
   "source": [
    "from casadi import *"
   ]
  },
  {
   "cell_type": "code",
   "execution_count": 218,
   "id": "4825b888-370e-42f5-bc3d-28e30f0d6261",
   "metadata": {},
   "outputs": [],
   "source": [
    "x = MX.sym('x',2); # states\n",
    "u = MX.sym('u'); #controls\n",
    "\n",
    "# van der pol oscillator system (nonlinear ODE)\n",
    "ode = vertcat((1 - x[1]**2)*x[0] - x[1] + u, x[0])"
   ]
  },
  {
   "cell_type": "code",
   "execution_count": 219,
   "id": "d5c73aa1-db00-4fb7-9bcf-fc68047b2108",
   "metadata": {},
   "outputs": [],
   "source": [
    "f = Function('f',[x,u],[ode])"
   ]
  },
  {
   "cell_type": "code",
   "execution_count": 221,
   "id": "a11f546d-15a1-4ef9-b498-dc0a834a8d70",
   "metadata": {},
   "outputs": [
    {
     "data": {
      "text/plain": [
       "DM([-0.628, 0.2])"
      ]
     },
     "execution_count": 221,
     "metadata": {},
     "output_type": "execute_result"
    }
   ],
   "source": [
    "f([0.2,0.8],0.1)"
   ]
  },
  {
   "cell_type": "markdown",
   "id": "9ad080e4-7556-4f9e-8878-c75cceeca9a3",
   "metadata": {},
   "source": [
    "<h1>time integration method</h1>"
   ]
  },
  {
   "cell_type": "code",
   "execution_count": 231,
   "id": "edac0f60-c8a6-4a1d-b312-d38871e0d89a",
   "metadata": {},
   "outputs": [],
   "source": [
    "T = 10 # time horizon\n",
    "N = 20 # number of control intervals"
   ]
  },
  {
   "cell_type": "code",
   "execution_count": 237,
   "id": "5f813b22-0689-4648-92d7-7d2565690606",
   "metadata": {},
   "outputs": [],
   "source": [
    "# integrator to discretize the system\n",
    "dae = {'x':x, 'p':u, 'ode':f(x,u)}\n",
    "intg = integrator('intg', 'rk', dae, {'tf':T/N, 'number_of_finite_elements':4, 'simplify':True})"
   ]
  },
  {
   "cell_type": "code",
   "execution_count": 240,
   "id": "490ca5c6-ae26-4f79-9786-bdda62a9a57d",
   "metadata": {},
   "outputs": [],
   "source": [
    "res = intg(x0=x,p=u) #evaluate with symbols\n",
    "x_next = res['xf'] "
   ]
  },
  {
   "cell_type": "code",
   "execution_count": 241,
   "id": "ca5c6405-b34e-42a9-93bd-939f03907cbb",
   "metadata": {},
   "outputs": [],
   "source": [
    "# Simplify API to (x,u)->(x_next)\n",
    "F = Function('F',[x,u],[x_next])"
   ]
  },
  {
   "cell_type": "code",
   "execution_count": 245,
   "id": "16e7a8e6-6bef-4d48-a202-f1dfea8264a6",
   "metadata": {},
   "outputs": [
    {
     "data": {
      "text/plain": [
       "(DM([-0.494017, 0.876098]), DM([-0.307745, 0.849043]))"
      ]
     },
     "execution_count": 245,
     "metadata": {},
     "output_type": "execute_result"
    }
   ],
   "source": [
    "F([0,1],0), F([0.1,0.9],0.1)"
   ]
  },
  {
   "cell_type": "code",
   "execution_count": 247,
   "id": "f5f00b4c-115e-4d7e-bc43-255ddfd5924e",
   "metadata": {},
   "outputs": [],
   "source": [
    "sim = F.mapaccum(N)"
   ]
  },
  {
   "cell_type": "code",
   "execution_count": 269,
   "id": "cc179a78-3b8e-4ce1-a230-19b894772a7a",
   "metadata": {},
   "outputs": [],
   "source": [
    "x0 = [0,1]\n",
    "res = sim(x0,cos(range(0,N)))"
   ]
  },
  {
   "cell_type": "code",
   "execution_count": null,
   "id": "397fc0c2-15be-4a43-8884-1893c36d031d",
   "metadata": {},
   "outputs": [],
   "source": []
  }
 ],
 "metadata": {
  "kernelspec": {
   "display_name": "Python 3 (ipykernel)",
   "language": "python",
   "name": "python3"
  },
  "language_info": {
   "codemirror_mode": {
    "name": "ipython",
    "version": 3
   },
   "file_extension": ".py",
   "mimetype": "text/x-python",
   "name": "python",
   "nbconvert_exporter": "python",
   "pygments_lexer": "ipython3",
   "version": "3.9.6"
  }
 },
 "nbformat": 4,
 "nbformat_minor": 5
}
