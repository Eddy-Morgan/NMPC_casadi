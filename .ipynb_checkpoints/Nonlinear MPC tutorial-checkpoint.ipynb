{
 "cells": [
  {
   "cell_type": "markdown",
   "id": "55b1654f-1e0c-4aea-acf6-f6bbae895b71",
   "metadata": {},
   "source": [
    "<h1>computational graphs</h1>"
   ]
  },
  {
   "cell_type": "code",
   "execution_count": 370,
   "id": "1b11f5c0-5430-4df3-b9ce-4745db4b1c71",
   "metadata": {},
   "outputs": [],
   "source": [
    "from casadi import *"
   ]
  },
  {
   "cell_type": "code",
   "execution_count": 371,
   "id": "4825b888-370e-42f5-bc3d-28e30f0d6261",
   "metadata": {},
   "outputs": [],
   "source": [
    "x = MX.sym('x',2); # states\n",
    "u = MX.sym('u'); #controls\n",
    "\n",
    "# van der pol oscillator system (nonlinear ODE)\n",
    "ode = vertcat((1 - x[1]**2)*x[0] - x[1] + u, x[0])"
   ]
  },
  {
   "cell_type": "code",
   "execution_count": 372,
   "id": "d5c73aa1-db00-4fb7-9bcf-fc68047b2108",
   "metadata": {},
   "outputs": [],
   "source": [
    "f = Function('f',[x,u],[ode])"
   ]
  },
  {
   "cell_type": "code",
   "execution_count": 373,
   "id": "a11f546d-15a1-4ef9-b498-dc0a834a8d70",
   "metadata": {},
   "outputs": [
    {
     "data": {
      "text/plain": [
       "DM([-0.628, 0.2])"
      ]
     },
     "execution_count": 373,
     "metadata": {},
     "output_type": "execute_result"
    }
   ],
   "source": [
    "f([0.2,0.8],0.1)"
   ]
  },
  {
   "cell_type": "markdown",
   "id": "9ad080e4-7556-4f9e-8878-c75cceeca9a3",
   "metadata": {},
   "source": [
    "<h1>time integration method</h1>"
   ]
  },
  {
   "cell_type": "code",
   "execution_count": 377,
   "id": "edac0f60-c8a6-4a1d-b312-d38871e0d89a",
   "metadata": {},
   "outputs": [],
   "source": [
    "T = 10 # time horizon\n",
    "N = 20 # number of control intervals"
   ]
  },
  {
   "cell_type": "code",
   "execution_count": 378,
   "id": "5f813b22-0689-4648-92d7-7d2565690606",
   "metadata": {},
   "outputs": [],
   "source": [
    "# integrator to discretize the system\n",
    "dae = {'x':x, 'p':u, 'ode':f(x,u)}\n",
    "intg = integrator('intg', 'rk', dae, {'tf':T/N, 'number_of_finite_elements':4, 'simplify':True})"
   ]
  },
  {
   "cell_type": "code",
   "execution_count": 379,
   "id": "490ca5c6-ae26-4f79-9786-bdda62a9a57d",
   "metadata": {},
   "outputs": [],
   "source": [
    "res = intg(x0=x,p=u) #evaluate with symbols\n",
    "x_next = res['xf'] "
   ]
  },
  {
   "cell_type": "code",
   "execution_count": 380,
   "id": "ca5c6405-b34e-42a9-93bd-939f03907cbb",
   "metadata": {},
   "outputs": [],
   "source": [
    "# Simplify API to (x,u)->(x_next)\n",
    "F = Function('F',[x,u],[x_next])"
   ]
  },
  {
   "cell_type": "code",
   "execution_count": 381,
   "id": "16e7a8e6-6bef-4d48-a202-f1dfea8264a6",
   "metadata": {},
   "outputs": [
    {
     "data": {
      "text/plain": [
       "(DM([-0.494017, 0.876098]), DM([-0.307745, 0.849043]))"
      ]
     },
     "execution_count": 381,
     "metadata": {},
     "output_type": "execute_result"
    }
   ],
   "source": [
    "F([0,1],0), F([0.1,0.9],0.1)"
   ]
  },
  {
   "cell_type": "markdown",
   "id": "2ac382cf-89b4-4703-9af5-8d03447f1e68",
   "metadata": {},
   "source": [
    "<h1>concept from functional programming</h1>"
   ]
  },
  {
   "cell_type": "code",
   "execution_count": 382,
   "id": "f5f00b4c-115e-4d7e-bc43-255ddfd5924e",
   "metadata": {},
   "outputs": [],
   "source": [
    "sim = F.mapaccum(N)"
   ]
  },
  {
   "cell_type": "code",
   "execution_count": 484,
   "id": "f7f64fa8-1838-4b74-a563-d90c34f2f13d",
   "metadata": {},
   "outputs": [
    {
     "data": {
      "text/plain": [
       "(2, 1)"
      ]
     },
     "execution_count": 484,
     "metadata": {},
     "output_type": "execute_result"
    }
   ],
   "source": [
    "np.array(x0).reshape((2,1)).shape"
   ]
  },
  {
   "cell_type": "code",
   "execution_count": null,
   "id": "7c0290df-415f-4355-9d57-c1a3e91b8e96",
   "metadata": {},
   "outputs": [],
   "source": []
  },
  {
   "cell_type": "code",
   "execution_count": 483,
   "id": "87794877-1609-4485-ad06-56f701bd7687",
   "metadata": {},
   "outputs": [
    {
     "ename": "ValueError",
     "evalue": "all the input array dimensions except for the concatenation axis must match exactly, but along dimension 1, the array at index 0 has size 1 and the array at index 1 has size 2",
     "output_type": "error",
     "traceback": [
      "\u001b[0;31m---------------------------------------------------------------------------\u001b[0m",
      "\u001b[0;31mValueError\u001b[0m                                Traceback (most recent call last)",
      "Cell \u001b[0;32mIn[483], line 1\u001b[0m\n\u001b[0;32m----> 1\u001b[0m \u001b[43mnp\u001b[49m\u001b[38;5;241;43m.\u001b[39;49m\u001b[43mconcatenate\u001b[49m\u001b[43m(\u001b[49m\u001b[43m(\u001b[49m\u001b[43mnp\u001b[49m\u001b[38;5;241;43m.\u001b[39;49m\u001b[43marray\u001b[49m\u001b[43m(\u001b[49m\u001b[43mx0\u001b[49m\u001b[43m)\u001b[49m\u001b[38;5;241;43m.\u001b[39;49m\u001b[43mreshape\u001b[49m\u001b[43m(\u001b[49m\u001b[43m(\u001b[49m\u001b[38;5;241;43m2\u001b[39;49m\u001b[43m,\u001b[49m\u001b[38;5;241;43m1\u001b[39;49m\u001b[43m)\u001b[49m\u001b[43m)\u001b[49m\u001b[43m,\u001b[49m\u001b[43m \u001b[49m\u001b[43mres\u001b[49m\u001b[38;5;241;43m.\u001b[39;49m\u001b[43mtoarray\u001b[49m\u001b[43m(\u001b[49m\u001b[43m)\u001b[49m\u001b[38;5;241;43m.\u001b[39;49m\u001b[43mT\u001b[49m\u001b[43m)\u001b[49m\u001b[43m,\u001b[49m\u001b[43m \u001b[49m\u001b[43maxis\u001b[49m\u001b[38;5;241;43m=\u001b[39;49m\u001b[38;5;241;43m0\u001b[39;49m\u001b[43m)\u001b[49m\n",
      "\u001b[0;31mValueError\u001b[0m: all the input array dimensions except for the concatenation axis must match exactly, but along dimension 1, the array at index 0 has size 1 and the array at index 1 has size 2"
     ]
    }
   ],
   "source": [
    "np.concatenate(, ), axis=0)"
   ]
  },
  {
   "cell_type": "code",
   "execution_count": 467,
   "id": "397fc0c2-15be-4a43-8884-1893c36d031d",
   "metadata": {},
   "outputs": [
    {
     "ename": "ValueError",
     "evalue": "x and y must have same first dimension, but have shapes (21,) and (2, 20)",
     "output_type": "error",
     "traceback": [
      "\u001b[0;31m---------------------------------------------------------------------------\u001b[0m",
      "\u001b[0;31mValueError\u001b[0m                                Traceback (most recent call last)",
      "Cell \u001b[0;32mIn[467], line 6\u001b[0m\n\u001b[1;32m      4\u001b[0m \u001b[38;5;66;03m# Create a figure and plot the data\u001b[39;00m\n\u001b[1;32m      5\u001b[0m plt\u001b[38;5;241m.\u001b[39mfigure()\n\u001b[0;32m----> 6\u001b[0m \u001b[43mplt\u001b[49m\u001b[38;5;241;43m.\u001b[39;49m\u001b[43mplot\u001b[49m\u001b[43m(\u001b[49m\u001b[43mt\u001b[49m\u001b[43m,\u001b[49m\u001b[43m \u001b[49m\u001b[43mres\u001b[49m\u001b[38;5;241;43m.\u001b[39;49m\u001b[43mtoarray\u001b[49m\u001b[43m(\u001b[49m\u001b[43m)\u001b[49m\u001b[43m)\u001b[49m\n\u001b[1;32m      7\u001b[0m plt\u001b[38;5;241m.\u001b[39mlegend([\u001b[38;5;124m'\u001b[39m\u001b[38;5;124mx0 [m/s]\u001b[39m\u001b[38;5;124m'\u001b[39m, \u001b[38;5;124m'\u001b[39m\u001b[38;5;124mx1[m]\u001b[39m\u001b[38;5;124m'\u001b[39m])\n\u001b[1;32m      8\u001b[0m plt\u001b[38;5;241m.\u001b[39mxlabel(\u001b[38;5;124m'\u001b[39m\u001b[38;5;124mt [s]\u001b[39m\u001b[38;5;124m'\u001b[39m)\n",
      "File \u001b[0;32m~/dev_ws/src/mpc/mpc_env/lib/python3.9/site-packages/matplotlib/pyplot.py:2812\u001b[0m, in \u001b[0;36mplot\u001b[0;34m(scalex, scaley, data, *args, **kwargs)\u001b[0m\n\u001b[1;32m   2810\u001b[0m \u001b[38;5;129m@_copy_docstring_and_deprecators\u001b[39m(Axes\u001b[38;5;241m.\u001b[39mplot)\n\u001b[1;32m   2811\u001b[0m \u001b[38;5;28;01mdef\u001b[39;00m \u001b[38;5;21mplot\u001b[39m(\u001b[38;5;241m*\u001b[39margs, scalex\u001b[38;5;241m=\u001b[39m\u001b[38;5;28;01mTrue\u001b[39;00m, scaley\u001b[38;5;241m=\u001b[39m\u001b[38;5;28;01mTrue\u001b[39;00m, data\u001b[38;5;241m=\u001b[39m\u001b[38;5;28;01mNone\u001b[39;00m, \u001b[38;5;241m*\u001b[39m\u001b[38;5;241m*\u001b[39mkwargs):\n\u001b[0;32m-> 2812\u001b[0m     \u001b[38;5;28;01mreturn\u001b[39;00m \u001b[43mgca\u001b[49m\u001b[43m(\u001b[49m\u001b[43m)\u001b[49m\u001b[38;5;241;43m.\u001b[39;49m\u001b[43mplot\u001b[49m\u001b[43m(\u001b[49m\n\u001b[1;32m   2813\u001b[0m \u001b[43m        \u001b[49m\u001b[38;5;241;43m*\u001b[39;49m\u001b[43margs\u001b[49m\u001b[43m,\u001b[49m\u001b[43m \u001b[49m\u001b[43mscalex\u001b[49m\u001b[38;5;241;43m=\u001b[39;49m\u001b[43mscalex\u001b[49m\u001b[43m,\u001b[49m\u001b[43m \u001b[49m\u001b[43mscaley\u001b[49m\u001b[38;5;241;43m=\u001b[39;49m\u001b[43mscaley\u001b[49m\u001b[43m,\u001b[49m\n\u001b[1;32m   2814\u001b[0m \u001b[43m        \u001b[49m\u001b[38;5;241;43m*\u001b[39;49m\u001b[38;5;241;43m*\u001b[39;49m\u001b[43m(\u001b[49m\u001b[43m{\u001b[49m\u001b[38;5;124;43m\"\u001b[39;49m\u001b[38;5;124;43mdata\u001b[39;49m\u001b[38;5;124;43m\"\u001b[39;49m\u001b[43m:\u001b[49m\u001b[43m \u001b[49m\u001b[43mdata\u001b[49m\u001b[43m}\u001b[49m\u001b[43m \u001b[49m\u001b[38;5;28;43;01mif\u001b[39;49;00m\u001b[43m \u001b[49m\u001b[43mdata\u001b[49m\u001b[43m \u001b[49m\u001b[38;5;129;43;01mis\u001b[39;49;00m\u001b[43m \u001b[49m\u001b[38;5;129;43;01mnot\u001b[39;49;00m\u001b[43m \u001b[49m\u001b[38;5;28;43;01mNone\u001b[39;49;00m\u001b[43m \u001b[49m\u001b[38;5;28;43;01melse\u001b[39;49;00m\u001b[43m \u001b[49m\u001b[43m{\u001b[49m\u001b[43m}\u001b[49m\u001b[43m)\u001b[49m\u001b[43m,\u001b[49m\u001b[43m \u001b[49m\u001b[38;5;241;43m*\u001b[39;49m\u001b[38;5;241;43m*\u001b[39;49m\u001b[43mkwargs\u001b[49m\u001b[43m)\u001b[49m\n",
      "File \u001b[0;32m~/dev_ws/src/mpc/mpc_env/lib/python3.9/site-packages/matplotlib/axes/_axes.py:1688\u001b[0m, in \u001b[0;36mAxes.plot\u001b[0;34m(self, scalex, scaley, data, *args, **kwargs)\u001b[0m\n\u001b[1;32m   1445\u001b[0m \u001b[38;5;250m\u001b[39m\u001b[38;5;124;03m\"\"\"\u001b[39;00m\n\u001b[1;32m   1446\u001b[0m \u001b[38;5;124;03mPlot y versus x as lines and/or markers.\u001b[39;00m\n\u001b[1;32m   1447\u001b[0m \n\u001b[0;32m   (...)\u001b[0m\n\u001b[1;32m   1685\u001b[0m \u001b[38;5;124;03m(``'green'``) or hex strings (``'#008000'``).\u001b[39;00m\n\u001b[1;32m   1686\u001b[0m \u001b[38;5;124;03m\"\"\"\u001b[39;00m\n\u001b[1;32m   1687\u001b[0m kwargs \u001b[38;5;241m=\u001b[39m cbook\u001b[38;5;241m.\u001b[39mnormalize_kwargs(kwargs, mlines\u001b[38;5;241m.\u001b[39mLine2D)\n\u001b[0;32m-> 1688\u001b[0m lines \u001b[38;5;241m=\u001b[39m [\u001b[38;5;241m*\u001b[39m\u001b[38;5;28mself\u001b[39m\u001b[38;5;241m.\u001b[39m_get_lines(\u001b[38;5;241m*\u001b[39margs, data\u001b[38;5;241m=\u001b[39mdata, \u001b[38;5;241m*\u001b[39m\u001b[38;5;241m*\u001b[39mkwargs)]\n\u001b[1;32m   1689\u001b[0m \u001b[38;5;28;01mfor\u001b[39;00m line \u001b[38;5;129;01min\u001b[39;00m lines:\n\u001b[1;32m   1690\u001b[0m     \u001b[38;5;28mself\u001b[39m\u001b[38;5;241m.\u001b[39madd_line(line)\n",
      "File \u001b[0;32m~/dev_ws/src/mpc/mpc_env/lib/python3.9/site-packages/matplotlib/axes/_base.py:311\u001b[0m, in \u001b[0;36m_process_plot_var_args.__call__\u001b[0;34m(self, data, *args, **kwargs)\u001b[0m\n\u001b[1;32m    309\u001b[0m     this \u001b[38;5;241m+\u001b[39m\u001b[38;5;241m=\u001b[39m args[\u001b[38;5;241m0\u001b[39m],\n\u001b[1;32m    310\u001b[0m     args \u001b[38;5;241m=\u001b[39m args[\u001b[38;5;241m1\u001b[39m:]\n\u001b[0;32m--> 311\u001b[0m \u001b[38;5;28;01myield from\u001b[39;00m \u001b[38;5;28;43mself\u001b[39;49m\u001b[38;5;241;43m.\u001b[39;49m\u001b[43m_plot_args\u001b[49m\u001b[43m(\u001b[49m\n\u001b[1;32m    312\u001b[0m \u001b[43m    \u001b[49m\u001b[43mthis\u001b[49m\u001b[43m,\u001b[49m\u001b[43m \u001b[49m\u001b[43mkwargs\u001b[49m\u001b[43m,\u001b[49m\u001b[43m \u001b[49m\u001b[43mambiguous_fmt_datakey\u001b[49m\u001b[38;5;241;43m=\u001b[39;49m\u001b[43mambiguous_fmt_datakey\u001b[49m\u001b[43m)\u001b[49m\n",
      "File \u001b[0;32m~/dev_ws/src/mpc/mpc_env/lib/python3.9/site-packages/matplotlib/axes/_base.py:504\u001b[0m, in \u001b[0;36m_process_plot_var_args._plot_args\u001b[0;34m(self, tup, kwargs, return_kwargs, ambiguous_fmt_datakey)\u001b[0m\n\u001b[1;32m    501\u001b[0m     \u001b[38;5;28mself\u001b[39m\u001b[38;5;241m.\u001b[39maxes\u001b[38;5;241m.\u001b[39myaxis\u001b[38;5;241m.\u001b[39mupdate_units(y)\n\u001b[1;32m    503\u001b[0m \u001b[38;5;28;01mif\u001b[39;00m x\u001b[38;5;241m.\u001b[39mshape[\u001b[38;5;241m0\u001b[39m] \u001b[38;5;241m!=\u001b[39m y\u001b[38;5;241m.\u001b[39mshape[\u001b[38;5;241m0\u001b[39m]:\n\u001b[0;32m--> 504\u001b[0m     \u001b[38;5;28;01mraise\u001b[39;00m \u001b[38;5;167;01mValueError\u001b[39;00m(\u001b[38;5;124mf\u001b[39m\u001b[38;5;124m\"\u001b[39m\u001b[38;5;124mx and y must have same first dimension, but \u001b[39m\u001b[38;5;124m\"\u001b[39m\n\u001b[1;32m    505\u001b[0m                      \u001b[38;5;124mf\u001b[39m\u001b[38;5;124m\"\u001b[39m\u001b[38;5;124mhave shapes \u001b[39m\u001b[38;5;132;01m{\u001b[39;00mx\u001b[38;5;241m.\u001b[39mshape\u001b[38;5;132;01m}\u001b[39;00m\u001b[38;5;124m and \u001b[39m\u001b[38;5;132;01m{\u001b[39;00my\u001b[38;5;241m.\u001b[39mshape\u001b[38;5;132;01m}\u001b[39;00m\u001b[38;5;124m\"\u001b[39m)\n\u001b[1;32m    506\u001b[0m \u001b[38;5;28;01mif\u001b[39;00m x\u001b[38;5;241m.\u001b[39mndim \u001b[38;5;241m>\u001b[39m \u001b[38;5;241m2\u001b[39m \u001b[38;5;129;01mor\u001b[39;00m y\u001b[38;5;241m.\u001b[39mndim \u001b[38;5;241m>\u001b[39m \u001b[38;5;241m2\u001b[39m:\n\u001b[1;32m    507\u001b[0m     \u001b[38;5;28;01mraise\u001b[39;00m \u001b[38;5;167;01mValueError\u001b[39;00m(\u001b[38;5;124mf\u001b[39m\u001b[38;5;124m\"\u001b[39m\u001b[38;5;124mx and y can be no greater than 2D, but have \u001b[39m\u001b[38;5;124m\"\u001b[39m\n\u001b[1;32m    508\u001b[0m                      \u001b[38;5;124mf\u001b[39m\u001b[38;5;124m\"\u001b[39m\u001b[38;5;124mshapes \u001b[39m\u001b[38;5;132;01m{\u001b[39;00mx\u001b[38;5;241m.\u001b[39mshape\u001b[38;5;132;01m}\u001b[39;00m\u001b[38;5;124m and \u001b[39m\u001b[38;5;132;01m{\u001b[39;00my\u001b[38;5;241m.\u001b[39mshape\u001b[38;5;132;01m}\u001b[39;00m\u001b[38;5;124m\"\u001b[39m)\n",
      "\u001b[0;31mValueError\u001b[0m: x and y must have same first dimension, but have shapes (21,) and (2, 20)"
     ]
    },
    {
     "data": {
      "image/png": "[encoded data removed]",
      "text/plain": [
       "<Figure size 640x480 with 1 Axes>"
      ]
     },
     "metadata": {},
     "output_type": "display_data"
    }
   ],
   "source": [
    "import matplotlib.pyplot as plt\n",
    "res = sim(x0,cos(range(0,N)))\n",
    "t = np.linspace(0, T, N+1)\n",
    "# Create a figure and plot the data\n",
    "plt.figure()\n",
    "plt.plot(t, res.toarray().T)\n",
    "plt.legend(['x0 [m/s]', 'x1[m]'])\n",
    "plt.xlabel('t [s]')\n",
    "plt.show()"
   ]
  },
  {
   "cell_type": "markdown",
   "id": "751454c0-5852-450c-8967-f644b540702f",
   "metadata": {},
   "source": [
    "<h1>symbolic differentiation</h1>"
   ]
  },
  {
   "cell_type": "code",
   "execution_count": 384,
   "id": "465d4986-baff-4d89-aa27-57348ad55036",
   "metadata": {},
   "outputs": [],
   "source": [
    "U = MX.sym('U',N);\n",
    "\n",
    "X1 = sim(x0, U)[0,:] #Simulate using concrete x0 and symbolic input series"
   ]
  },
  {
   "cell_type": "code",
   "execution_count": 385,
   "id": "1ecbbf88-f76c-4a97-b67a-2fd4e08fc02b",
   "metadata": {},
   "outputs": [
    {
     "data": {
      "text/plain": [
       "<matplotlib.image.AxesImage at 0x13f054610>"
      ]
     },
     "execution_count": 385,
     "metadata": {},
     "output_type": "execute_result"
    },
    {
     "data": {
      "image/png": "[encoded data removed]",
      "text/plain": [
       "<Figure size 640x480 with 1 Axes>"
      ]
     },
     "metadata": {},
     "output_type": "display_data"
    }
   ],
   "source": [
    "J = jacobian(X1, U) # jacobian of the first states wrt to input series\n",
    "\n",
    "Jf = Function('Jf',[U],[J])\n",
    "plt.spy(Jf(0))"
   ]
  },
  {
   "cell_type": "markdown",
   "id": "4923e885-56be-443f-b34f-3eaa9a7a7577",
   "metadata": {},
   "source": [
    "<h1>Optimal control problem using multiple-shooting</h1>"
   ]
  },
  {
   "cell_type": "code",
   "execution_count": 459,
   "id": "347d2ce8-725f-4c64-bb53-721dec8628ed",
   "metadata": {},
   "outputs": [
    {
     "data": {
      "text/plain": [
       "Opti(Opti {\n",
       "  instance #26\n",
       "  #variables: 2 (nx = 62)\n",
       "  #parameters: 1 (np = 2)\n",
       "  #constraints: 23 (ng = 82)\n",
       "  CasADi solver needs updating.\n",
       "})"
      ]
     },
     "execution_count": 459,
     "metadata": {},
     "output_type": "execute_result"
    }
   ],
   "source": [
    "opti = Opti() # Optimization problem\n",
    "\n",
    "x = opti.variable(2,N+1) # decision variable for state trajectory\n",
    "u = opti.variable(1,N)\n",
    "p = opti.parameter(2,1) # parameter not optimized over\n",
    "\n",
    "opti.minimize(sumsqr(x) + sumsqr(u)) \n",
    "\n",
    "for k in range(N):\n",
    "    opti.subject_to(x[:,k+1]==F(x[:,k], u[:,k]))\n",
    "\n",
    "opti.subject_to(u>=-1)\n",
    "opti.subject_to(u<=1)\n",
    "opti.subject_to(x[:,0]==p)\n",
    "\n",
    "opti"
   ]
  },
  {
   "cell_type": "code",
   "execution_count": 460,
   "id": "19335a4b-ae0f-4a46-bec0-8718f05c3736",
   "metadata": {},
   "outputs": [
    {
     "name": "stdout",
     "output_type": "stream",
     "text": [
      "-------------------------------------------\n",
      "This is casadi::QRQP\n",
      "Number of variables:                              62\n",
      "Number of constraints:                            82\n",
      "Number of nonzeros in H:                         182\n",
      "Number of nonzeros in A:                         202\n",
      "Number of nonzeros in KKT:                       668\n",
      "Number of nonzeros in QR(V):                     521\n",
      "Number of nonzeros in QR(R):                     962\n",
      "-------------------------------------------\n",
      "This is casadi::Sqpmethod.\n",
      "Using exact Hessian\n",
      "Number of variables:                              62\n",
      "Number of constraints:                            82\n",
      "Number of nonzeros in constraint Jacobian:       202\n",
      "Number of nonzeros in Lagrangian Hessian:        182\n",
      "\n",
      "iter      objective    inf_pr    inf_du     ||d||  lg(rg) ls    info\n",
      "   0   0.000000e+00  1.00e+00  0.00e+00  0.00e+00       -  0  - \n",
      " Iter  Sing        fk      |pr|   con      |du|   var     min_R   con  last_tau  Note\n",
      "    0     0         0         1   143  2.4e-308     0      0.56   101         0  \n",
      "    1     0       7.5       0.2   124     1e-14     7      0.56   101         1  Added ubz to reduce |pr|, i=124\n",
      "    2     0       7.5      0.17   123   8.2e-16     2      0.56   101         1  Added ubz to reduce |pr|, i=123\n",
      "    3     0       7.6      0.14   125   2.2e-15     5      0.56   101         1  Added ubz to reduce |pr|, i=125\n",
      "    4     0       7.6   1.1e-15    64   1.7e-15    11      0.56   101         1  Converged\n",
      "   1   7.625699e+00  1.50e-01  1.91e+00  1.00e+00       -  1  - \n",
      " Iter  Sing        fk      |pr|   con      |du|   var     min_R   con  last_tau  Note\n",
      "    0     0         0      0.15    64       1.9     3      0.56   101         0  \n",
      "    1     1      -1.1   4.6e-15    66       1.1    43      0.56   101         1  Enforced lbz to reduce |du|, i=103\n",
      "    2     0      -1.1   4.6e-15    66       1.1    43      0.56   101         1  Dropped ubz for regularity, i=123\n",
      "    3     0      -1.1   3.4e-15    80       1.1    43      0.56   101      0.23  Dropped lbz to reduce |du|, i=103\n",
      "    4     1      -1.2     7e-16    78      0.35    45      0.56   101         1  Enforced lbz to reduce |du|, i=105\n",
      "    5     0      -1.2     7e-16    78      0.35    45      0.56   101         1  Dropped ubz for regularity, i=125\n",
      "    6     0      -1.2   6.9e-16    68      0.35    45      0.56   101     0.087  Dropped lbz to reduce |du|, i=105\n",
      "    7     0      -1.2   1.4e-16    76   9.9e-16     5      0.56   101         1  Converged\n",
      "   2   6.363226e+00  5.97e-03  1.90e-01  3.19e-01       -  1  - \n",
      " Iter  Sing        fk      |pr|   con      |du|   var     min_R   con  last_tau  Note\n",
      "    0     0         0     0.006    64      0.19     3      0.56   101         0  \n",
      "    1     0      0.02     3e-17    81   9.2e-16     5      0.56   101         1  Converged\n",
      "   3   6.383134e+00  7.37e-06  2.30e-04  1.22e-02       -  1  - \n",
      " Iter  Sing        fk      |pr|   con      |du|   var     min_R   con  last_tau  Note\n",
      "    0     0         0   7.4e-06    70   0.00023     4      0.56   101         0  \n",
      "    1     0   1.1e-06   3.8e-20    71     8e-16     5      0.56   101         1  Converged\n",
      "   4   6.383135e+00  4.03e-11  5.73e-10  1.68e-05       -  1  - \n",
      "MESSAGE(sqpmethod): Convergence achieved after 4 iterations\n",
      "      solver  :   t_proc      (avg)   t_wall      (avg)    n_eval\n",
      "          QP  |   1.62ms (406.25us)   1.47ms (366.52us)         4\n",
      "  linesearch  |   1.16ms (289.50us)   1.04ms (259.71us)         4\n",
      "      nlp_fg  |   1.10ms (275.25us)   1.01ms (253.37us)         4\n",
      "  nlp_hess_l  |  17.27ms (  4.32ms)  17.19ms (  4.30ms)         4\n",
      "  nlp_jac_fg  |   8.59ms (  1.72ms)   8.30ms (  1.66ms)         5\n",
      "       total  |  29.90ms ( 29.90ms)  29.21ms ( 29.21ms)         1\n"
     ]
    }
   ],
   "source": [
    "# choose a concrete solver\n",
    "opti.solver('sqpmethod', {'qpsol':'qrqp'});\n",
    "\n",
    "opti.set_value(p,[0,1]);\n",
    "sol = opti.solve();"
   ]
  },
  {
   "cell_type": "code",
   "execution_count": 461,
   "id": "ef923960-38b9-481e-a691-e286a3445965",
   "metadata": {},
   "outputs": [
    {
     "data": {
      "text/plain": [
       "array([[ 0.00000000e+00,  1.00000000e+00],\n",
       "       [-4.42366120e-01,  8.88857473e-01],\n",
       "       [-5.13177125e-01,  6.49249745e-01],\n",
       "       [-4.50707120e-01,  4.04867782e-01],\n",
       "       [-3.19641004e-01,  2.06669834e-01],\n",
       "       [-1.92519421e-01,  7.34562464e-02],\n",
       "       [-9.32925657e-02, -1.61624384e-03],\n",
       "       [-2.83786941e-02, -3.40690191e-02],\n",
       "       [ 6.57788550e-03, -4.03810284e-02],\n",
       "       [ 2.03348082e-02, -3.38033218e-02],\n",
       "       [ 2.16448645e-02, -2.31133497e-02],\n",
       "       [ 1.72193270e-02, -1.30962212e-02],\n",
       "       [ 1.13201594e-02, -5.68357498e-03],\n",
       "       [ 6.15355199e-03, -1.11183434e-03],\n",
       "       [ 2.51455537e-03,  1.17904009e-03],\n",
       "       [ 3.90882312e-04,  1.96622256e-03],\n",
       "       [-5.91434398e-04,  1.93600331e-03],\n",
       "       [-8.94806052e-04,  1.56301882e-03],\n",
       "       [-9.33380477e-04,  1.09707203e-03],\n",
       "       [-1.02117149e-03,  5.99913153e-04],\n",
       "       [-1.35617015e-03,  8.91938012e-08]])"
      ]
     },
     "execution_count": 461,
     "metadata": {},
     "output_type": "execute_result"
    }
   ],
   "source": [
    " sol.value(x).T"
   ]
  },
  {
   "cell_type": "code",
   "execution_count": 462,
   "id": "4119cf43-630c-4dff-a0be-f2988fc2fce5",
   "metadata": {},
   "outputs": [
    {
     "ename": "ValueError",
     "evalue": "x and y must have same first dimension, but have shapes (20,) and (21, 2)",
     "output_type": "error",
     "traceback": [
      "\u001b[0;31m---------------------------------------------------------------------------\u001b[0m",
      "\u001b[0;31mValueError\u001b[0m                                Traceback (most recent call last)",
      "Cell \u001b[0;32mIn[462], line 2\u001b[0m\n\u001b[1;32m      1\u001b[0m plt\u001b[38;5;241m.\u001b[39mfigure()\n\u001b[0;32m----> 2\u001b[0m \u001b[43mplt\u001b[49m\u001b[38;5;241;43m.\u001b[39;49m\u001b[43mplot\u001b[49m\u001b[43m(\u001b[49m\u001b[43mt\u001b[49m\u001b[43m,\u001b[49m\u001b[43m \u001b[49m\u001b[43msol\u001b[49m\u001b[38;5;241;43m.\u001b[39;49m\u001b[43mvalue\u001b[49m\u001b[43m(\u001b[49m\u001b[43mx\u001b[49m\u001b[43m)\u001b[49m\u001b[38;5;241;43m.\u001b[39;49m\u001b[43mT\u001b[49m\u001b[43m)\u001b[49m\n\u001b[1;32m      3\u001b[0m plt\u001b[38;5;241m.\u001b[39mlegend([\u001b[38;5;124m'\u001b[39m\u001b[38;5;124mx0 [m/s]\u001b[39m\u001b[38;5;124m'\u001b[39m, \u001b[38;5;124m'\u001b[39m\u001b[38;5;124mx1[m]\u001b[39m\u001b[38;5;124m'\u001b[39m])\n\u001b[1;32m      4\u001b[0m plt\u001b[38;5;241m.\u001b[39mxlabel(\u001b[38;5;124m'\u001b[39m\u001b[38;5;124mt [s]\u001b[39m\u001b[38;5;124m'\u001b[39m)\n",
      "File \u001b[0;32m~/dev_ws/src/mpc/mpc_env/lib/python3.9/site-packages/matplotlib/pyplot.py:2812\u001b[0m, in \u001b[0;36mplot\u001b[0;34m(scalex, scaley, data, *args, **kwargs)\u001b[0m\n\u001b[1;32m   2810\u001b[0m \u001b[38;5;129m@_copy_docstring_and_deprecators\u001b[39m(Axes\u001b[38;5;241m.\u001b[39mplot)\n\u001b[1;32m   2811\u001b[0m \u001b[38;5;28;01mdef\u001b[39;00m \u001b[38;5;21mplot\u001b[39m(\u001b[38;5;241m*\u001b[39margs, scalex\u001b[38;5;241m=\u001b[39m\u001b[38;5;28;01mTrue\u001b[39;00m, scaley\u001b[38;5;241m=\u001b[39m\u001b[38;5;28;01mTrue\u001b[39;00m, data\u001b[38;5;241m=\u001b[39m\u001b[38;5;28;01mNone\u001b[39;00m, \u001b[38;5;241m*\u001b[39m\u001b[38;5;241m*\u001b[39mkwargs):\n\u001b[0;32m-> 2812\u001b[0m     \u001b[38;5;28;01mreturn\u001b[39;00m \u001b[43mgca\u001b[49m\u001b[43m(\u001b[49m\u001b[43m)\u001b[49m\u001b[38;5;241;43m.\u001b[39;49m\u001b[43mplot\u001b[49m\u001b[43m(\u001b[49m\n\u001b[1;32m   2813\u001b[0m \u001b[43m        \u001b[49m\u001b[38;5;241;43m*\u001b[39;49m\u001b[43margs\u001b[49m\u001b[43m,\u001b[49m\u001b[43m \u001b[49m\u001b[43mscalex\u001b[49m\u001b[38;5;241;43m=\u001b[39;49m\u001b[43mscalex\u001b[49m\u001b[43m,\u001b[49m\u001b[43m \u001b[49m\u001b[43mscaley\u001b[49m\u001b[38;5;241;43m=\u001b[39;49m\u001b[43mscaley\u001b[49m\u001b[43m,\u001b[49m\n\u001b[1;32m   2814\u001b[0m \u001b[43m        \u001b[49m\u001b[38;5;241;43m*\u001b[39;49m\u001b[38;5;241;43m*\u001b[39;49m\u001b[43m(\u001b[49m\u001b[43m{\u001b[49m\u001b[38;5;124;43m\"\u001b[39;49m\u001b[38;5;124;43mdata\u001b[39;49m\u001b[38;5;124;43m\"\u001b[39;49m\u001b[43m:\u001b[49m\u001b[43m \u001b[49m\u001b[43mdata\u001b[49m\u001b[43m}\u001b[49m\u001b[43m \u001b[49m\u001b[38;5;28;43;01mif\u001b[39;49;00m\u001b[43m \u001b[49m\u001b[43mdata\u001b[49m\u001b[43m \u001b[49m\u001b[38;5;129;43;01mis\u001b[39;49;00m\u001b[43m \u001b[49m\u001b[38;5;129;43;01mnot\u001b[39;49;00m\u001b[43m \u001b[49m\u001b[38;5;28;43;01mNone\u001b[39;49;00m\u001b[43m \u001b[49m\u001b[38;5;28;43;01melse\u001b[39;49;00m\u001b[43m \u001b[49m\u001b[43m{\u001b[49m\u001b[43m}\u001b[49m\u001b[43m)\u001b[49m\u001b[43m,\u001b[49m\u001b[43m \u001b[49m\u001b[38;5;241;43m*\u001b[39;49m\u001b[38;5;241;43m*\u001b[39;49m\u001b[43mkwargs\u001b[49m\u001b[43m)\u001b[49m\n",
      "File \u001b[0;32m~/dev_ws/src/mpc/mpc_env/lib/python3.9/site-packages/matplotlib/axes/_axes.py:1688\u001b[0m, in \u001b[0;36mAxes.plot\u001b[0;34m(self, scalex, scaley, data, *args, **kwargs)\u001b[0m\n\u001b[1;32m   1445\u001b[0m \u001b[38;5;250m\u001b[39m\u001b[38;5;124;03m\"\"\"\u001b[39;00m\n\u001b[1;32m   1446\u001b[0m \u001b[38;5;124;03mPlot y versus x as lines and/or markers.\u001b[39;00m\n\u001b[1;32m   1447\u001b[0m \n\u001b[0;32m   (...)\u001b[0m\n\u001b[1;32m   1685\u001b[0m \u001b[38;5;124;03m(``'green'``) or hex strings (``'#008000'``).\u001b[39;00m\n\u001b[1;32m   1686\u001b[0m \u001b[38;5;124;03m\"\"\"\u001b[39;00m\n\u001b[1;32m   1687\u001b[0m kwargs \u001b[38;5;241m=\u001b[39m cbook\u001b[38;5;241m.\u001b[39mnormalize_kwargs(kwargs, mlines\u001b[38;5;241m.\u001b[39mLine2D)\n\u001b[0;32m-> 1688\u001b[0m lines \u001b[38;5;241m=\u001b[39m [\u001b[38;5;241m*\u001b[39m\u001b[38;5;28mself\u001b[39m\u001b[38;5;241m.\u001b[39m_get_lines(\u001b[38;5;241m*\u001b[39margs, data\u001b[38;5;241m=\u001b[39mdata, \u001b[38;5;241m*\u001b[39m\u001b[38;5;241m*\u001b[39mkwargs)]\n\u001b[1;32m   1689\u001b[0m \u001b[38;5;28;01mfor\u001b[39;00m line \u001b[38;5;129;01min\u001b[39;00m lines:\n\u001b[1;32m   1690\u001b[0m     \u001b[38;5;28mself\u001b[39m\u001b[38;5;241m.\u001b[39madd_line(line)\n",
      "File \u001b[0;32m~/dev_ws/src/mpc/mpc_env/lib/python3.9/site-packages/matplotlib/axes/_base.py:311\u001b[0m, in \u001b[0;36m_process_plot_var_args.__call__\u001b[0;34m(self, data, *args, **kwargs)\u001b[0m\n\u001b[1;32m    309\u001b[0m     this \u001b[38;5;241m+\u001b[39m\u001b[38;5;241m=\u001b[39m args[\u001b[38;5;241m0\u001b[39m],\n\u001b[1;32m    310\u001b[0m     args \u001b[38;5;241m=\u001b[39m args[\u001b[38;5;241m1\u001b[39m:]\n\u001b[0;32m--> 311\u001b[0m \u001b[38;5;28;01myield from\u001b[39;00m \u001b[38;5;28;43mself\u001b[39;49m\u001b[38;5;241;43m.\u001b[39;49m\u001b[43m_plot_args\u001b[49m\u001b[43m(\u001b[49m\n\u001b[1;32m    312\u001b[0m \u001b[43m    \u001b[49m\u001b[43mthis\u001b[49m\u001b[43m,\u001b[49m\u001b[43m \u001b[49m\u001b[43mkwargs\u001b[49m\u001b[43m,\u001b[49m\u001b[43m \u001b[49m\u001b[43mambiguous_fmt_datakey\u001b[49m\u001b[38;5;241;43m=\u001b[39;49m\u001b[43mambiguous_fmt_datakey\u001b[49m\u001b[43m)\u001b[49m\n",
      "File \u001b[0;32m~/dev_ws/src/mpc/mpc_env/lib/python3.9/site-packages/matplotlib/axes/_base.py:504\u001b[0m, in \u001b[0;36m_process_plot_var_args._plot_args\u001b[0;34m(self, tup, kwargs, return_kwargs, ambiguous_fmt_datakey)\u001b[0m\n\u001b[1;32m    501\u001b[0m     \u001b[38;5;28mself\u001b[39m\u001b[38;5;241m.\u001b[39maxes\u001b[38;5;241m.\u001b[39myaxis\u001b[38;5;241m.\u001b[39mupdate_units(y)\n\u001b[1;32m    503\u001b[0m \u001b[38;5;28;01mif\u001b[39;00m x\u001b[38;5;241m.\u001b[39mshape[\u001b[38;5;241m0\u001b[39m] \u001b[38;5;241m!=\u001b[39m y\u001b[38;5;241m.\u001b[39mshape[\u001b[38;5;241m0\u001b[39m]:\n\u001b[0;32m--> 504\u001b[0m     \u001b[38;5;28;01mraise\u001b[39;00m \u001b[38;5;167;01mValueError\u001b[39;00m(\u001b[38;5;124mf\u001b[39m\u001b[38;5;124m\"\u001b[39m\u001b[38;5;124mx and y must have same first dimension, but \u001b[39m\u001b[38;5;124m\"\u001b[39m\n\u001b[1;32m    505\u001b[0m                      \u001b[38;5;124mf\u001b[39m\u001b[38;5;124m\"\u001b[39m\u001b[38;5;124mhave shapes \u001b[39m\u001b[38;5;132;01m{\u001b[39;00mx\u001b[38;5;241m.\u001b[39mshape\u001b[38;5;132;01m}\u001b[39;00m\u001b[38;5;124m and \u001b[39m\u001b[38;5;132;01m{\u001b[39;00my\u001b[38;5;241m.\u001b[39mshape\u001b[38;5;132;01m}\u001b[39;00m\u001b[38;5;124m\"\u001b[39m)\n\u001b[1;32m    506\u001b[0m \u001b[38;5;28;01mif\u001b[39;00m x\u001b[38;5;241m.\u001b[39mndim \u001b[38;5;241m>\u001b[39m \u001b[38;5;241m2\u001b[39m \u001b[38;5;129;01mor\u001b[39;00m y\u001b[38;5;241m.\u001b[39mndim \u001b[38;5;241m>\u001b[39m \u001b[38;5;241m2\u001b[39m:\n\u001b[1;32m    507\u001b[0m     \u001b[38;5;28;01mraise\u001b[39;00m \u001b[38;5;167;01mValueError\u001b[39;00m(\u001b[38;5;124mf\u001b[39m\u001b[38;5;124m\"\u001b[39m\u001b[38;5;124mx and y can be no greater than 2D, but have \u001b[39m\u001b[38;5;124m\"\u001b[39m\n\u001b[1;32m    508\u001b[0m                      \u001b[38;5;124mf\u001b[39m\u001b[38;5;124m\"\u001b[39m\u001b[38;5;124mshapes \u001b[39m\u001b[38;5;132;01m{\u001b[39;00mx\u001b[38;5;241m.\u001b[39mshape\u001b[38;5;132;01m}\u001b[39;00m\u001b[38;5;124m and \u001b[39m\u001b[38;5;132;01m{\u001b[39;00my\u001b[38;5;241m.\u001b[39mshape\u001b[38;5;132;01m}\u001b[39;00m\u001b[38;5;124m\"\u001b[39m)\n",
      "\u001b[0;31mValueError\u001b[0m: x and y must have same first dimension, but have shapes (20,) and (21, 2)"
     ]
    },
    {
     "data": {
      "image/png": "[encoded data removed]",
      "text/plain": [
       "<Figure size 640x480 with 1 Axes>"
      ]
     },
     "metadata": {},
     "output_type": "display_data"
    }
   ],
   "source": [
    "plt.figure()\n",
    "plt.plot(t, sol.value(x).T)\n",
    "plt.legend(['x0 [m/s]', 'x1[m]'])\n",
    "plt.xlabel('t [s]')\n",
    "plt.show()"
   ]
  },
  {
   "cell_type": "code",
   "execution_count": null,
   "id": "2ca2074f-7545-4ba2-965d-9240a795ff3f",
   "metadata": {},
   "outputs": [],
   "source": []
  }
 ],
 "metadata": {
  "kernelspec": {
   "display_name": "Python 3 (ipykernel)",
   "language": "python",
   "name": "python3"
  },
  "language_info": {
   "codemirror_mode": {
    "name": "ipython",
    "version": 3
   },
   "file_extension": ".py",
   "mimetype": "text/x-python",
   "name": "python",
   "nbconvert_exporter": "python",
   "pygments_lexer": "ipython3",
   "version": "3.9.6"
  }
 },
 "nbformat": 4,
 "nbformat_minor": 5
}
